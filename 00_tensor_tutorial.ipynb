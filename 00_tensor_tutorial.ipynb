{
  "nbformat": 4,
  "nbformat_minor": 0,
  "metadata": {
    "kernelspec": {
      "display_name": "Python 3",
      "language": "python",
      "name": "python3"
    },
    "language_info": {
      "codemirror_mode": {
        "name": "ipython",
        "version": 3
      },
      "file_extension": ".py",
      "mimetype": "text/x-python",
      "name": "python",
      "nbconvert_exporter": "python",
      "pygments_lexer": "ipython3",
      "version": "3.6.8"
    },
    "colab": {
      "name": "00_tensor_tutorial.ipynb",
      "provenance": [],
      "include_colab_link": true
    },
    "accelerator": "GPU"
  },
  "cells": [
    {
      "cell_type": "markdown",
      "metadata": {
        "id": "view-in-github",
        "colab_type": "text"
      },
      "source": [
        "<a href=\"https://colab.research.google.com/github/XingxinHE/DEEP-LEARNING-WITH-PYTORCH-A-60-MINUTE-BLITZ/blob/main/00_tensor_tutorial.ipynb\" target=\"_parent\"><img src=\"https://colab.research.google.com/assets/colab-badge.svg\" alt=\"Open In Colab\"/></a>"
      ]
    },
    {
      "cell_type": "code",
      "metadata": {
        "id": "ratg0DOhOubX"
      },
      "source": [
        "%matplotlib inline"
      ],
      "execution_count": 4,
      "outputs": []
    },
    {
      "cell_type": "markdown",
      "metadata": {
        "id": "0TchsEruOubX"
      },
      "source": [
        "\n",
        "What is PyTorch?\n",
        "================\n",
        "\n",
        "PyTorch主要贡献在GPU加速，torch.tensor类似于Numpy的ndarray，但是前者可以在GPU 运行。\n",
        "\n"
      ]
    },
    {
      "cell_type": "code",
      "metadata": {
        "id": "hNX1pmXYOubX"
      },
      "source": [
        "from __future__ import print_function\n",
        "import torch"
      ],
      "execution_count": 5,
      "outputs": []
    },
    {
      "cell_type": "markdown",
      "metadata": {
        "id": "1u-Qt85zOubX"
      },
      "source": [
        "Construct a 5x3 matrix, uninitialized:\n",
        "\n"
      ]
    },
    {
      "cell_type": "code",
      "metadata": {
        "id": "glCobpNBOubX",
        "colab": {
          "base_uri": "https://localhost:8080/"
        },
        "outputId": "0e068806-b3c8-487f-bebe-7acf44781a11"
      },
      "source": [
        "x = torch.empty(5, 3)\n",
        "print(x)"
      ],
      "execution_count": 6,
      "outputs": [
        {
          "output_type": "stream",
          "text": [
            "tensor([[2.1426e-35, 0.0000e+00, 3.3631e-44],\n",
            "        [0.0000e+00,        nan, 6.4460e-44],\n",
            "        [1.1578e+27, 1.1362e+30, 7.1547e+22],\n",
            "        [4.5828e+30, 1.2121e+04, 7.1846e+22],\n",
            "        [9.2198e-39, 7.0374e+22, 0.0000e+00]])\n"
          ],
          "name": "stdout"
        }
      ]
    },
    {
      "cell_type": "markdown",
      "metadata": {
        "id": "DiaJzHWROubX"
      },
      "source": [
        "Construct a randomly initialized matrix:\n",
        "\n"
      ]
    },
    {
      "cell_type": "code",
      "metadata": {
        "id": "4WOpTN4YOubX",
        "colab": {
          "base_uri": "https://localhost:8080/"
        },
        "outputId": "ad55920a-9b93-4873-8efd-35f5d0283507"
      },
      "source": [
        "x = torch.rand(5, 3)\n",
        "print(x)"
      ],
      "execution_count": 7,
      "outputs": [
        {
          "output_type": "stream",
          "text": [
            "tensor([[0.3621, 0.2229, 0.1542],\n",
            "        [0.5551, 0.3349, 0.9047],\n",
            "        [0.5326, 0.6143, 0.2591],\n",
            "        [0.8933, 0.9068, 0.9659],\n",
            "        [0.1864, 0.4277, 0.8034]])\n"
          ],
          "name": "stdout"
        }
      ]
    },
    {
      "cell_type": "markdown",
      "metadata": {
        "id": "DwGZ371UTGlQ"
      },
      "source": [
        "创建一个未初始化的矩阵时，当时在分配的内存中的任何值都将作为初始值出现。这就是为啥torch.empty里面有nan这些东西，每个人都不一样，每次compute都不一样"
      ]
    },
    {
      "cell_type": "markdown",
      "metadata": {
        "id": "ZaHgCeJJOubX"
      },
      "source": [
        "Construct a matrix filled zeros and of dtype long:\n",
        "\n"
      ]
    },
    {
      "cell_type": "code",
      "metadata": {
        "id": "5zt8RPLlOubX",
        "colab": {
          "base_uri": "https://localhost:8080/"
        },
        "outputId": "7bf6d2db-4efd-4111-fdcf-1beb7bdd2f94"
      },
      "source": [
        "x = torch.zeros(5, 3, dtype=torch.long)\n",
        "print(x)"
      ],
      "execution_count": 8,
      "outputs": [
        {
          "output_type": "stream",
          "text": [
            "tensor([[0, 0, 0],\n",
            "        [0, 0, 0],\n",
            "        [0, 0, 0],\n",
            "        [0, 0, 0],\n",
            "        [0, 0, 0]])\n"
          ],
          "name": "stdout"
        }
      ]
    },
    {
      "cell_type": "markdown",
      "metadata": {
        "id": "ny3T8YlwOubX"
      },
      "source": [
        "Construct a tensor directly from data:\n",
        "\n"
      ]
    },
    {
      "cell_type": "code",
      "metadata": {
        "id": "F-rU8C1MOubX",
        "colab": {
          "base_uri": "https://localhost:8080/"
        },
        "outputId": "6ac7b11b-11ec-4670-d6c4-d45a3ae67832"
      },
      "source": [
        "x = torch.tensor([5.5, 3])\n",
        "print(x)"
      ],
      "execution_count": 9,
      "outputs": [
        {
          "output_type": "stream",
          "text": [
            "tensor([5.5000, 3.0000])\n"
          ],
          "name": "stdout"
        }
      ]
    },
    {
      "cell_type": "markdown",
      "metadata": {
        "id": "_OzS3Q4COubY"
      },
      "source": [
        "or create a tensor based on an existing tensor. These methods\n",
        "will reuse properties of the input tensor, e.g. dtype, unless\n",
        "new values are provided by user\n",
        "\n",
        "note: 搞不懂这有啥用😶\n",
        "\n"
      ]
    },
    {
      "cell_type": "code",
      "metadata": {
        "id": "I20U-8uBOubY",
        "colab": {
          "base_uri": "https://localhost:8080/"
        },
        "outputId": "abcb3362-2998-4a92-eed1-57e383336bd0"
      },
      "source": [
        "x = x.new_ones(5, 3, dtype=torch.double)      # new_* methods take in sizes\n",
        "print(x)\n",
        "\n",
        "x = torch.randn_like(x, dtype=torch.float)    # override dtype!\n",
        "print(x)                                      # result has the same size"
      ],
      "execution_count": 10,
      "outputs": [
        {
          "output_type": "stream",
          "text": [
            "tensor([[1., 1., 1.],\n",
            "        [1., 1., 1.],\n",
            "        [1., 1., 1.],\n",
            "        [1., 1., 1.],\n",
            "        [1., 1., 1.]], dtype=torch.float64)\n",
            "tensor([[ 1.2962,  0.8315, -0.4547],\n",
            "        [ 0.3214, -0.0442, -0.2107],\n",
            "        [-0.1735, -0.2775,  0.2229],\n",
            "        [-0.6412,  0.3076,  0.4567],\n",
            "        [-1.3065, -1.4966, -0.7170]])\n"
          ],
          "name": "stdout"
        }
      ]
    },
    {
      "cell_type": "markdown",
      "metadata": {
        "id": "4gwSg4ZAOubY"
      },
      "source": [
        "Get its size:\n",
        "\n"
      ]
    },
    {
      "cell_type": "code",
      "metadata": {
        "id": "ilxhmCZNOubY",
        "colab": {
          "base_uri": "https://localhost:8080/"
        },
        "outputId": "0ad827af-69b2-4a49-af17-adeae79b3901"
      },
      "source": [
        "print(x.size())"
      ],
      "execution_count": 11,
      "outputs": [
        {
          "output_type": "stream",
          "text": [
            "torch.Size([5, 3])\n"
          ],
          "name": "stdout"
        }
      ]
    },
    {
      "cell_type": "markdown",
      "metadata": {
        "id": "JugXuI84OubY"
      },
      "source": [
        "<div class=\"alert alert-info\"><h4>Note</h4><p>``torch.Size`` is in fact a tuple, so it supports all tuple operations.</p></div>\n",
        "\n",
        "Operations（tensor的运算）\n",
        "---------------\n",
        "There are multiple syntaxes for operations. In the following\n",
        "example, we will take a look at the addition operation.\n",
        "\n",
        "Addition: syntax 1\n",
        "\n"
      ]
    },
    {
      "cell_type": "code",
      "metadata": {
        "id": "oj2cSvq0OubY",
        "colab": {
          "base_uri": "https://localhost:8080/"
        },
        "outputId": "b65b604f-c1b2-4b8f-d0ca-07a17ca9d14d"
      },
      "source": [
        "print(x)\n",
        "y = torch.rand(5, 3)\n",
        "print(y)\n",
        "print(x + y)"
      ],
      "execution_count": 12,
      "outputs": [
        {
          "output_type": "stream",
          "text": [
            "tensor([[ 1.2962,  0.8315, -0.4547],\n",
            "        [ 0.3214, -0.0442, -0.2107],\n",
            "        [-0.1735, -0.2775,  0.2229],\n",
            "        [-0.6412,  0.3076,  0.4567],\n",
            "        [-1.3065, -1.4966, -0.7170]])\n",
            "tensor([[0.7431, 0.9973, 0.6863],\n",
            "        [0.4448, 0.0082, 0.4884],\n",
            "        [0.9892, 0.0385, 0.4413],\n",
            "        [0.1406, 0.1248, 0.0162],\n",
            "        [0.8821, 0.9030, 0.8956]])\n",
            "tensor([[ 2.0393,  1.8288,  0.2316],\n",
            "        [ 0.7662, -0.0360,  0.2777],\n",
            "        [ 0.8157, -0.2390,  0.6642],\n",
            "        [-0.5007,  0.4324,  0.4729],\n",
            "        [-0.4244, -0.5936,  0.1786]])\n"
          ],
          "name": "stdout"
        }
      ]
    },
    {
      "cell_type": "markdown",
      "metadata": {
        "id": "A-MUpHpbOubY"
      },
      "source": [
        "Addition: syntax 2\n",
        "\n"
      ]
    },
    {
      "cell_type": "code",
      "metadata": {
        "id": "haZEKJxLOubY",
        "colab": {
          "base_uri": "https://localhost:8080/"
        },
        "outputId": "20075cdb-51cd-4122-82c2-a092587d9b82"
      },
      "source": [
        "print(torch.add(x, y))"
      ],
      "execution_count": 13,
      "outputs": [
        {
          "output_type": "stream",
          "text": [
            "tensor([[ 2.0393,  1.8288,  0.2316],\n",
            "        [ 0.7662, -0.0360,  0.2777],\n",
            "        [ 0.8157, -0.2390,  0.6642],\n",
            "        [-0.5007,  0.4324,  0.4729],\n",
            "        [-0.4244, -0.5936,  0.1786]])\n"
          ],
          "name": "stdout"
        }
      ]
    },
    {
      "cell_type": "markdown",
      "metadata": {
        "id": "RCepMOpHOubY"
      },
      "source": [
        "Addition: providing an output tensor as argument\n",
        "\n"
      ]
    },
    {
      "cell_type": "code",
      "metadata": {
        "id": "Ac0Yeo8vOubY",
        "colab": {
          "base_uri": "https://localhost:8080/"
        },
        "outputId": "f63fcda8-ad31-423a-93ba-f9199572ac7d"
      },
      "source": [
        "result = torch.empty(5, 3)\n",
        "torch.add(x, y, out=result) #居然还可以这么写…out指定为一个变量\n",
        "print(result)"
      ],
      "execution_count": 14,
      "outputs": [
        {
          "output_type": "stream",
          "text": [
            "tensor([[ 2.0393,  1.8288,  0.2316],\n",
            "        [ 0.7662, -0.0360,  0.2777],\n",
            "        [ 0.8157, -0.2390,  0.6642],\n",
            "        [-0.5007,  0.4324,  0.4729],\n",
            "        [-0.4244, -0.5936,  0.1786]])\n"
          ],
          "name": "stdout"
        }
      ]
    },
    {
      "cell_type": "markdown",
      "metadata": {
        "id": "UHdH6ZpzOubY"
      },
      "source": [
        "Addition: in-place 有点overwrite的意思，就是把x的值写入到y里面\n",
        "\n"
      ]
    },
    {
      "cell_type": "code",
      "metadata": {
        "id": "y0D-zl1bOubY",
        "colab": {
          "base_uri": "https://localhost:8080/"
        },
        "outputId": "d59d6c04-3950-4f77-cc42-6d119987dd06"
      },
      "source": [
        "# adds x to y\n",
        "y.add_(x)\n",
        "print(y)"
      ],
      "execution_count": 15,
      "outputs": [
        {
          "output_type": "stream",
          "text": [
            "tensor([[ 2.0393,  1.8288,  0.2316],\n",
            "        [ 0.7662, -0.0360,  0.2777],\n",
            "        [ 0.8157, -0.2390,  0.6642],\n",
            "        [-0.5007,  0.4324,  0.4729],\n",
            "        [-0.4244, -0.5936,  0.1786]])\n"
          ],
          "name": "stdout"
        }
      ]
    },
    {
      "cell_type": "markdown",
      "metadata": {
        "id": "RLOEEqNfOubY"
      },
      "source": [
        "❗❗❗<div class=\"alert alert-info\"><h4>Note</h4><p>Any operation that mutates a tensor in-place is post-fixed with an ``_``.\n",
        "    For example: ``x.copy_(y)``, ``x.t_()``, will change ``x``.</p></div>❗❗❗\n",
        "\n",
        "    \n",
        "\n",
        "You can use standard NumPy-like indexing with all bells and whistles!\n",
        "\n"
      ]
    },
    {
      "cell_type": "code",
      "metadata": {
        "id": "LfNnpS6HOubY",
        "colab": {
          "base_uri": "https://localhost:8080/"
        },
        "outputId": "a3da5a98-7f74-4fcf-d476-cd2f0b1011fe"
      },
      "source": [
        "print(x[:, 1])"
      ],
      "execution_count": 16,
      "outputs": [
        {
          "output_type": "stream",
          "text": [
            "tensor([ 0.8315, -0.0442, -0.2775,  0.3076, -1.4966])\n"
          ],
          "name": "stdout"
        }
      ]
    },
    {
      "cell_type": "markdown",
      "metadata": {
        "id": "TekpUFKKOubY"
      },
      "source": [
        "Resizing: If you want to resize/reshape tensor, you can use ``torch.view``:\n",
        "\n",
        "这个我还真没用过，torch.view可以改写tensor的size和shape\n"
      ]
    },
    {
      "cell_type": "code",
      "metadata": {
        "id": "YxfqG4KKOubY",
        "colab": {
          "base_uri": "https://localhost:8080/"
        },
        "outputId": "5e5f49bf-b459-4ce6-fe82-c107db3176c7"
      },
      "source": [
        "x = torch.randn(4, 4)\n",
        "y = x.view(16)\n",
        "z = x.view(-1, 8)  # the size -1 is inferred from other dimensions\n",
        "print(x.size(), y.size(), z.size())"
      ],
      "execution_count": 17,
      "outputs": [
        {
          "output_type": "stream",
          "text": [
            "torch.Size([4, 4]) torch.Size([16]) torch.Size([2, 8])\n"
          ],
          "name": "stdout"
        }
      ]
    },
    {
      "cell_type": "markdown",
      "metadata": {
        "id": "by714BbnVA-s"
      },
      "source": [
        "简单来说，.view(-1, ￥)就是把tensor弄成￥个column，-1代表你不用管的意思；\n",
        "\n",
        "以下我把16个东西，可以以column=2, column=4, column=8"
      ]
    },
    {
      "cell_type": "code",
      "metadata": {
        "colab": {
          "base_uri": "https://localhost:8080/"
        },
        "id": "zyHXlpSfU0zM",
        "outputId": "38a39dd0-0942-4193-be60-de5e67b878c7"
      },
      "source": [
        "x.view(-1,8)"
      ],
      "execution_count": 18,
      "outputs": [
        {
          "output_type": "execute_result",
          "data": {
            "text/plain": [
              "tensor([[ 0.0749,  1.3154,  0.3759,  0.6409, -1.2063, -0.7052,  1.6043,  0.4970],\n",
              "        [-0.3182, -0.8437,  0.1576,  1.2447,  0.3746, -1.4619,  0.3436, -0.1384]])"
            ]
          },
          "metadata": {
            "tags": []
          },
          "execution_count": 18
        }
      ]
    },
    {
      "cell_type": "code",
      "metadata": {
        "colab": {
          "base_uri": "https://localhost:8080/"
        },
        "id": "_9a7S1KKVYQU",
        "outputId": "4f5b2bcf-98a6-446d-fbad-350ba7c4c1c3"
      },
      "source": [
        "x.view(-1,4)"
      ],
      "execution_count": 19,
      "outputs": [
        {
          "output_type": "execute_result",
          "data": {
            "text/plain": [
              "tensor([[ 0.0749,  1.3154,  0.3759,  0.6409],\n",
              "        [-1.2063, -0.7052,  1.6043,  0.4970],\n",
              "        [-0.3182, -0.8437,  0.1576,  1.2447],\n",
              "        [ 0.3746, -1.4619,  0.3436, -0.1384]])"
            ]
          },
          "metadata": {
            "tags": []
          },
          "execution_count": 19
        }
      ]
    },
    {
      "cell_type": "code",
      "metadata": {
        "colab": {
          "base_uri": "https://localhost:8080/"
        },
        "id": "uc7OEjfpVZtL",
        "outputId": "e1552d5d-1518-4422-e612-9f85a7e8495e"
      },
      "source": [
        "x.view(-1,2)"
      ],
      "execution_count": 20,
      "outputs": [
        {
          "output_type": "execute_result",
          "data": {
            "text/plain": [
              "tensor([[ 0.0749,  1.3154],\n",
              "        [ 0.3759,  0.6409],\n",
              "        [-1.2063, -0.7052],\n",
              "        [ 1.6043,  0.4970],\n",
              "        [-0.3182, -0.8437],\n",
              "        [ 0.1576,  1.2447],\n",
              "        [ 0.3746, -1.4619],\n",
              "        [ 0.3436, -0.1384]])"
            ]
          },
          "metadata": {
            "tags": []
          },
          "execution_count": 20
        }
      ]
    },
    {
      "cell_type": "markdown",
      "metadata": {
        "id": "u6obBKMWOubY"
      },
      "source": [
        "If you have a one element tensor, use ``.item()`` to get the value as a\n",
        "Python number\n",
        "\n"
      ]
    },
    {
      "cell_type": "code",
      "metadata": {
        "id": "SJOMcNAgOubY",
        "colab": {
          "base_uri": "https://localhost:8080/"
        },
        "outputId": "ccf70201-1109-4ce3-aa92-c9d76b3e7547"
      },
      "source": [
        "x = torch.randn(1)\n",
        "print(x)\n",
        "print(x.item())  #这个在plotting loss值的时候常用"
      ],
      "execution_count": 21,
      "outputs": [
        {
          "output_type": "stream",
          "text": [
            "tensor([-0.1606])\n",
            "-0.1605842113494873\n"
          ],
          "name": "stdout"
        }
      ]
    },
    {
      "cell_type": "markdown",
      "metadata": {
        "id": "bbTqSZTIOubY"
      },
      "source": [
        "**Read later:**\n",
        "\n",
        "\n",
        "  100+ Tensor operations, including transposing, indexing, slicing,\n",
        "  mathematical operations, linear algebra, random numbers, etc.,\n",
        "  are described\n",
        "  `here <https://pytorch.org/docs/torch>`_.\n",
        "\n",
        "NumPy Bridge\n",
        "------------\n",
        "\n",
        "Converting a Torch Tensor to a NumPy array and vice versa is a breeze.\n",
        "\n",
        "The Torch Tensor and NumPy array will share their underlying memory\n",
        "locations (if the Torch Tensor is on CPU), and changing one will change\n",
        "the other.\n",
        "\n",
        "\n",
        "Converting a Torch Tensor to a NumPy Array\n",
        "------------\n",
        "\n"
      ]
    },
    {
      "cell_type": "code",
      "metadata": {
        "id": "juARkIRgOubY",
        "colab": {
          "base_uri": "https://localhost:8080/"
        },
        "outputId": "98a30e03-8882-45c6-e57f-43ba36d1b997"
      },
      "source": [
        "a = torch.ones(5)\n",
        "print(a)"
      ],
      "execution_count": 22,
      "outputs": [
        {
          "output_type": "stream",
          "text": [
            "tensor([1., 1., 1., 1., 1.])\n"
          ],
          "name": "stdout"
        }
      ]
    },
    {
      "cell_type": "code",
      "metadata": {
        "id": "McOQ6sh_OubY",
        "colab": {
          "base_uri": "https://localhost:8080/"
        },
        "outputId": "23e8cf3c-b526-4019-f756-006014eb873d"
      },
      "source": [
        "#用.numpy()即可\n",
        "b = a.numpy()   \n",
        "print(b)"
      ],
      "execution_count": 23,
      "outputs": [
        {
          "output_type": "stream",
          "text": [
            "[1. 1. 1. 1. 1.]\n"
          ],
          "name": "stdout"
        }
      ]
    },
    {
      "cell_type": "markdown",
      "metadata": {
        "id": "dolQHncCOubY"
      },
      "source": [
        "See how the numpy array changed in value.\n",
        "\n",
        "以下代码证明了Tensor和它相对的Numpy连通的，改变其中一个，另外一个也会改变\n",
        "\n"
      ]
    },
    {
      "cell_type": "code",
      "metadata": {
        "id": "eOrVKTwpOubY",
        "colab": {
          "base_uri": "https://localhost:8080/"
        },
        "outputId": "21711ef5-1551-4951-d4ea-dbf7a4d10fac"
      },
      "source": [
        "a.add_(1)\n",
        "print(a)\n",
        "print(b)"
      ],
      "execution_count": 24,
      "outputs": [
        {
          "output_type": "stream",
          "text": [
            "tensor([2., 2., 2., 2., 2.])\n",
            "[2. 2. 2. 2. 2.]\n"
          ],
          "name": "stdout"
        }
      ]
    },
    {
      "cell_type": "markdown",
      "metadata": {
        "id": "vHu63Z83OubY"
      },
      "source": [
        "反之亦然，改变numpy, ->tensor也会跟着变\n"
      ]
    },
    {
      "cell_type": "code",
      "metadata": {
        "id": "BRzwy_4EOubY",
        "colab": {
          "base_uri": "https://localhost:8080/"
        },
        "outputId": "82ced972-b139-4a1f-b34f-6b876e71ca14"
      },
      "source": [
        "import numpy as np\n",
        "a = np.ones(5)\n",
        "b = torch.from_numpy(a)\n",
        "np.add(a, 1, out=a)\n",
        "print(a)\n",
        "print(b)"
      ],
      "execution_count": 25,
      "outputs": [
        {
          "output_type": "stream",
          "text": [
            "[2. 2. 2. 2. 2.]\n",
            "tensor([2., 2., 2., 2., 2.], dtype=torch.float64)\n"
          ],
          "name": "stdout"
        }
      ]
    },
    {
      "cell_type": "markdown",
      "metadata": {
        "id": "LLMnYQdiOubY"
      },
      "source": [
        "All the Tensors on the CPU except a CharTensor support converting to\n",
        "NumPy and back.\n",
        "\n",
        "CUDA Tensors\n",
        "------------\n",
        "\n",
        "Tensors can be moved onto any device using the ``.to`` method.\n",
        "\n"
      ]
    },
    {
      "cell_type": "code",
      "metadata": {
        "id": "t6Q3zMsBOubY",
        "colab": {
          "base_uri": "https://localhost:8080/"
        },
        "outputId": "03b97184-262a-4f3c-addc-76cb685acdb7"
      },
      "source": [
        "# let us run this cell only if CUDA is available\n",
        "# We will use ``torch.device`` objects to move tensors in and out of GPU\n",
        "if torch.cuda.is_available():\n",
        "    device = torch.device(\"cuda\")          # a CUDA device object\n",
        "    y = torch.ones_like(x, device=device)  # directly create a tensor on GPU\n",
        "    x = x.to(device)                       # or just use strings ``.to(\"cuda\")``\n",
        "    z = x + y\n",
        "    print(z)\n",
        "    print(z.to(\"cpu\", torch.double))       # ``.to`` can also change dtype together!"
      ],
      "execution_count": 26,
      "outputs": [
        {
          "output_type": "stream",
          "text": [
            "tensor([0.8394], device='cuda:0')\n",
            "tensor([0.8394], dtype=torch.float64)\n"
          ],
          "name": "stdout"
        }
      ]
    },
    {
      "cell_type": "code",
      "metadata": {
        "colab": {
          "base_uri": "https://localhost:8080/",
          "height": 35
        },
        "id": "M1u26vlbWraX",
        "outputId": "4df2a7c8-634d-4940-9449-eba33c11770e"
      },
      "source": [
        "torch.cuda.get_device_name(0)"
      ],
      "execution_count": 28,
      "outputs": [
        {
          "output_type": "execute_result",
          "data": {
            "application/vnd.google.colaboratory.intrinsic+json": {
              "type": "string"
            },
            "text/plain": [
              "'Tesla T4'"
            ]
          },
          "metadata": {
            "tags": []
          },
          "execution_count": 28
        }
      ]
    }
  ]
}